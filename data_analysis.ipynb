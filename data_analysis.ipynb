{
 "metadata": {
  "language_info": {
   "codemirror_mode": {
    "name": "ipython",
    "version": 3
   },
   "file_extension": ".py",
   "mimetype": "text/x-python",
   "name": "python",
   "nbconvert_exporter": "python",
   "pygments_lexer": "ipython3",
   "version": "3.8.0"
  },
  "orig_nbformat": 4,
  "kernelspec": {
   "name": "python3",
   "display_name": "Python 3.8.0 64-bit ('base': conda)"
  },
  "interpreter": {
   "hash": "75384fd0ca3c2952361a90566c13d130cab84e43a6c89416ac57c7dceece1b2d"
  }
 },
 "nbformat": 4,
 "nbformat_minor": 2,
 "cells": [
  {
   "cell_type": "code",
   "execution_count": 1,
   "metadata": {},
   "outputs": [],
   "source": [
    "from sklearn import tree\n",
    "import pandas as pd\n",
    "import matplotlib.pyplot as plt\n",
    "import seaborn as sns\n",
    "%matplotlib inline"
   ]
  },
  {
   "cell_type": "code",
   "execution_count": 2,
   "metadata": {},
   "outputs": [],
   "source": [
    "from IPython.display import SVG\n",
    "from graphviz import Source\n",
    "from IPython.display import display"
   ]
  },
  {
   "cell_type": "code",
   "execution_count": 3,
   "metadata": {},
   "outputs": [
    {
     "output_type": "execute_result",
     "data": {
      "text/plain": [
       "<IPython.core.display.HTML object>"
      ],
      "text/html": "<style>svg{width: 80% !important; height: 80% !important;} </style>"
     },
     "metadata": {},
     "execution_count": 3
    }
   ],
   "source": [
    "from IPython.display import HTML\n",
    "style = \"<style>svg{width: 80% !important; height: 80% !important;} </style>\" \n",
    "HTML(style)"
   ]
  },
  {
   "cell_type": "code",
   "execution_count": 4,
   "metadata": {},
   "outputs": [],
   "source": [
    "df = pd.read_csv('Case_Data.csv')"
   ]
  },
  {
   "cell_type": "code",
   "execution_count": 5,
   "metadata": {},
   "outputs": [
    {
     "output_type": "execute_result",
     "data": {
      "text/plain": [
       "                                ﻿id чека      Дата и время         ИНН  \\\n",
       "0       0000a622f9c8f1821ca549fbcfd47405  21.12.2019 15:15  2310031475   \n",
       "1       0000a622f9c8f1821ca549fbcfd47405  21.12.2019 15:15  2310031475   \n",
       "2       0000a622f9c8f1821ca549fbcfd47405  21.12.2019 15:15  2310031475   \n",
       "3       0000a622f9c8f1821ca549fbcfd47405  21.12.2019 15:15  2310031475   \n",
       "4       0000a622f9c8f1821ca549fbcfd47405  21.12.2019 15:15  2310031475   \n",
       "...                                  ...               ...         ...   \n",
       "309702  512a6614980d409a7283410f797fdc3d  09.11.2019 14:21   5,243E+11   \n",
       "309703  512a6614980d409a7283410f797fdc3d  09.11.2019 14:21   5,243E+11   \n",
       "309704  512a6614980d409a7283410f797fdc3d  09.11.2019 14:21   5,243E+11   \n",
       "309705  512a6614980d409a7283410f797fdc3d  09.11.2019 14:21   5,243E+11   \n",
       "309706  512a6614980d409a7283410f797fdc3d  09.11.2019 14:21   5,243E+11   \n",
       "\n",
       "                          IDПользователя  \\\n",
       "0       2700449a73d4cb9d8e909c706bf16fbe   \n",
       "1       2700449a73d4cb9d8e909c706bf16fbe   \n",
       "2       2700449a73d4cb9d8e909c706bf16fbe   \n",
       "3       2700449a73d4cb9d8e909c706bf16fbe   \n",
       "4       2700449a73d4cb9d8e909c706bf16fbe   \n",
       "...                                  ...   \n",
       "309702  8760e764842ad2608d747d8f5600db4b   \n",
       "309703  8760e764842ad2608d747d8f5600db4b   \n",
       "309704  8760e764842ad2608d747d8f5600db4b   \n",
       "309705  8760e764842ad2608d747d8f5600db4b   \n",
       "309706  8760e764842ad2608d747d8f5600db4b   \n",
       "\n",
       "                                                    Товар     Бренд  \\\n",
       "0        libresse natural care ultra прокладки normal 10ш  libresse   \n",
       "1        pampers трусики-подг 5 junior 12-17/15-18кг 96шт   pampers   \n",
       "2        salton губка/гл кож с дозатор(чер)(шанхай продак       NaN   \n",
       "3        soft ватные палочки 200шт пластиковый стакан(кот       NaN   \n",
       "4        моя цена/степной тюльпан туал/бум без вт(бумагар       NaN   \n",
       "...                                                   ...       ...   \n",
       "309702  клеар(clear)200мл шамп.максимальный объем 12ш ...     clear   \n",
       "309703  клеар(clear)400мл шамп. баланс жирности цитрус...       NaN   \n",
       "309704     клеар(clear)400мл шамп. основной уход 12ш (шт)       NaN   \n",
       "309705   клеар(clear)400мл шамп.2в1 активспорт мужс. (шт)     clear   \n",
       "309706    клеар(clear)400мл шамп.защита от выпадения (шт)       NaN   \n",
       "\n",
       "                                                     Теги     Цена  Кол-во  \\\n",
       "0           личная гигиена; красота и здоровье; прокладки    63.20     2.0   \n",
       "1                                                     NaN  1549.00     1.0   \n",
       "2                                                     NaN   135.20     1.0   \n",
       "3                                                     NaN    31.20     1.0   \n",
       "4                                                     NaN     4.90     1.0   \n",
       "...                                                   ...      ...     ...   \n",
       "309702  красота и здоровье; гигиена волос; шампунь для...   107.12    10.0   \n",
       "309703                                                NaN   138.88     5.0   \n",
       "309704                                                NaN   139.00    15.0   \n",
       "309705  красота и здоровье; гигиена волос; шампунь для...   139.00    15.0   \n",
       "309706                                                NaN   139.00     5.0   \n",
       "\n",
       "         Сумма  Кэшбэк  \n",
       "0        126.4     NaN  \n",
       "1       1549.0   154.9  \n",
       "2        135.2     NaN  \n",
       "3         31.2     NaN  \n",
       "4          4.9     NaN  \n",
       "...        ...     ...  \n",
       "309702  1071.2     NaN  \n",
       "309703   694.4     NaN  \n",
       "309704  2085.0     NaN  \n",
       "309705  2085.0     NaN  \n",
       "309706   695.0     NaN  \n",
       "\n",
       "[309707 rows x 11 columns]"
      ],
      "text/html": "<div>\n<style scoped>\n    .dataframe tbody tr th:only-of-type {\n        vertical-align: middle;\n    }\n\n    .dataframe tbody tr th {\n        vertical-align: top;\n    }\n\n    .dataframe thead th {\n        text-align: right;\n    }\n</style>\n<table border=\"1\" class=\"dataframe\">\n  <thead>\n    <tr style=\"text-align: right;\">\n      <th></th>\n      <th>﻿id чека</th>\n      <th>Дата и время</th>\n      <th>ИНН</th>\n      <th>IDПользователя</th>\n      <th>Товар</th>\n      <th>Бренд</th>\n      <th>Теги</th>\n      <th>Цена</th>\n      <th>Кол-во</th>\n      <th>Сумма</th>\n      <th>Кэшбэк</th>\n    </tr>\n  </thead>\n  <tbody>\n    <tr>\n      <th>0</th>\n      <td>0000a622f9c8f1821ca549fbcfd47405</td>\n      <td>21.12.2019 15:15</td>\n      <td>2310031475</td>\n      <td>2700449a73d4cb9d8e909c706bf16fbe</td>\n      <td>libresse natural care ultra прокладки normal 10ш</td>\n      <td>libresse</td>\n      <td>личная гигиена; красота и здоровье; прокладки</td>\n      <td>63.20</td>\n      <td>2.0</td>\n      <td>126.4</td>\n      <td>NaN</td>\n    </tr>\n    <tr>\n      <th>1</th>\n      <td>0000a622f9c8f1821ca549fbcfd47405</td>\n      <td>21.12.2019 15:15</td>\n      <td>2310031475</td>\n      <td>2700449a73d4cb9d8e909c706bf16fbe</td>\n      <td>pampers трусики-подг 5 junior 12-17/15-18кг 96шт</td>\n      <td>pampers</td>\n      <td>NaN</td>\n      <td>1549.00</td>\n      <td>1.0</td>\n      <td>1549.0</td>\n      <td>154.9</td>\n    </tr>\n    <tr>\n      <th>2</th>\n      <td>0000a622f9c8f1821ca549fbcfd47405</td>\n      <td>21.12.2019 15:15</td>\n      <td>2310031475</td>\n      <td>2700449a73d4cb9d8e909c706bf16fbe</td>\n      <td>salton губка/гл кож с дозатор(чер)(шанхай продак</td>\n      <td>NaN</td>\n      <td>NaN</td>\n      <td>135.20</td>\n      <td>1.0</td>\n      <td>135.2</td>\n      <td>NaN</td>\n    </tr>\n    <tr>\n      <th>3</th>\n      <td>0000a622f9c8f1821ca549fbcfd47405</td>\n      <td>21.12.2019 15:15</td>\n      <td>2310031475</td>\n      <td>2700449a73d4cb9d8e909c706bf16fbe</td>\n      <td>soft ватные палочки 200шт пластиковый стакан(кот</td>\n      <td>NaN</td>\n      <td>NaN</td>\n      <td>31.20</td>\n      <td>1.0</td>\n      <td>31.2</td>\n      <td>NaN</td>\n    </tr>\n    <tr>\n      <th>4</th>\n      <td>0000a622f9c8f1821ca549fbcfd47405</td>\n      <td>21.12.2019 15:15</td>\n      <td>2310031475</td>\n      <td>2700449a73d4cb9d8e909c706bf16fbe</td>\n      <td>моя цена/степной тюльпан туал/бум без вт(бумагар</td>\n      <td>NaN</td>\n      <td>NaN</td>\n      <td>4.90</td>\n      <td>1.0</td>\n      <td>4.9</td>\n      <td>NaN</td>\n    </tr>\n    <tr>\n      <th>...</th>\n      <td>...</td>\n      <td>...</td>\n      <td>...</td>\n      <td>...</td>\n      <td>...</td>\n      <td>...</td>\n      <td>...</td>\n      <td>...</td>\n      <td>...</td>\n      <td>...</td>\n      <td>...</td>\n    </tr>\n    <tr>\n      <th>309702</th>\n      <td>512a6614980d409a7283410f797fdc3d</td>\n      <td>09.11.2019 14:21</td>\n      <td>5,243E+11</td>\n      <td>8760e764842ad2608d747d8f5600db4b</td>\n      <td>клеар(clear)200мл шамп.максимальный объем 12ш ...</td>\n      <td>clear</td>\n      <td>красота и здоровье; гигиена волос; шампунь для...</td>\n      <td>107.12</td>\n      <td>10.0</td>\n      <td>1071.2</td>\n      <td>NaN</td>\n    </tr>\n    <tr>\n      <th>309703</th>\n      <td>512a6614980d409a7283410f797fdc3d</td>\n      <td>09.11.2019 14:21</td>\n      <td>5,243E+11</td>\n      <td>8760e764842ad2608d747d8f5600db4b</td>\n      <td>клеар(clear)400мл шамп. баланс жирности цитрус...</td>\n      <td>NaN</td>\n      <td>NaN</td>\n      <td>138.88</td>\n      <td>5.0</td>\n      <td>694.4</td>\n      <td>NaN</td>\n    </tr>\n    <tr>\n      <th>309704</th>\n      <td>512a6614980d409a7283410f797fdc3d</td>\n      <td>09.11.2019 14:21</td>\n      <td>5,243E+11</td>\n      <td>8760e764842ad2608d747d8f5600db4b</td>\n      <td>клеар(clear)400мл шамп. основной уход 12ш (шт)</td>\n      <td>NaN</td>\n      <td>NaN</td>\n      <td>139.00</td>\n      <td>15.0</td>\n      <td>2085.0</td>\n      <td>NaN</td>\n    </tr>\n    <tr>\n      <th>309705</th>\n      <td>512a6614980d409a7283410f797fdc3d</td>\n      <td>09.11.2019 14:21</td>\n      <td>5,243E+11</td>\n      <td>8760e764842ad2608d747d8f5600db4b</td>\n      <td>клеар(clear)400мл шамп.2в1 активспорт мужс. (шт)</td>\n      <td>clear</td>\n      <td>красота и здоровье; гигиена волос; шампунь для...</td>\n      <td>139.00</td>\n      <td>15.0</td>\n      <td>2085.0</td>\n      <td>NaN</td>\n    </tr>\n    <tr>\n      <th>309706</th>\n      <td>512a6614980d409a7283410f797fdc3d</td>\n      <td>09.11.2019 14:21</td>\n      <td>5,243E+11</td>\n      <td>8760e764842ad2608d747d8f5600db4b</td>\n      <td>клеар(clear)400мл шамп.защита от выпадения (шт)</td>\n      <td>NaN</td>\n      <td>NaN</td>\n      <td>139.00</td>\n      <td>5.0</td>\n      <td>695.0</td>\n      <td>NaN</td>\n    </tr>\n  </tbody>\n</table>\n<p>309707 rows × 11 columns</p>\n</div>"
     },
     "metadata": {},
     "execution_count": 5
    }
   ],
   "source": [
    "df"
   ]
  },
  {
   "cell_type": "code",
   "execution_count": 6,
   "metadata": {},
   "outputs": [
    {
     "output_type": "execute_result",
     "data": {
      "text/plain": [
       "(309707, 11)"
      ]
     },
     "metadata": {},
     "execution_count": 6
    }
   ],
   "source": [
    "df.shape"
   ]
  },
  {
   "cell_type": "code",
   "execution_count": 7,
   "metadata": {},
   "outputs": [
    {
     "output_type": "execute_result",
     "data": {
      "text/plain": [
       "                           ﻿id чека      Дата и время         ИНН  \\\n",
       "0  0000a622f9c8f1821ca549fbcfd47405  21.12.2019 15:15  2310031475   \n",
       "1  0000a622f9c8f1821ca549fbcfd47405  21.12.2019 15:15  2310031475   \n",
       "2  0000a622f9c8f1821ca549fbcfd47405  21.12.2019 15:15  2310031475   \n",
       "3  0000a622f9c8f1821ca549fbcfd47405  21.12.2019 15:15  2310031475   \n",
       "4  0000a622f9c8f1821ca549fbcfd47405  21.12.2019 15:15  2310031475   \n",
       "5  0000a622f9c8f1821ca549fbcfd47405  21.12.2019 15:15  2310031475   \n",
       "6  0000a622f9c8f1821ca549fbcfd47405  21.12.2019 15:15  2310031475   \n",
       "7  0000ff080b0a96172c95b3aa6f34980d  14.12.2019 18:33  2310031475   \n",
       "\n",
       "                     IDПользователя  \\\n",
       "0  2700449a73d4cb9d8e909c706bf16fbe   \n",
       "1  2700449a73d4cb9d8e909c706bf16fbe   \n",
       "2  2700449a73d4cb9d8e909c706bf16fbe   \n",
       "3  2700449a73d4cb9d8e909c706bf16fbe   \n",
       "4  2700449a73d4cb9d8e909c706bf16fbe   \n",
       "5  2700449a73d4cb9d8e909c706bf16fbe   \n",
       "6  2700449a73d4cb9d8e909c706bf16fbe   \n",
       "7  417fef3a42028cb612da47fff7b829f3   \n",
       "\n",
       "                                              Товар            Бренд  \\\n",
       "0  libresse natural care ultra прокладки normal 10ш         libresse   \n",
       "1  pampers трусики-подг 5 junior 12-17/15-18кг 96шт          pampers   \n",
       "2  salton губка/гл кож с дозатор(чер)(шанхай продак              NaN   \n",
       "3  soft ватные палочки 200шт пластиковый стакан(кот              NaN   \n",
       "4  моя цена/степной тюльпан туал/бум без вт(бумагар              NaN   \n",
       "5  пакет магнит косметик мал(пластиктрейд):300/2700  магнит косметик   \n",
       "6  светодиод лампа старт груша 15вт e27 тёпл/хол св              NaN   \n",
       "7                discreet deo ежедн прокладки water         discreet   \n",
       "\n",
       "                                            Теги     Цена  Кол-во    Сумма  \\\n",
       "0  личная гигиена; красота и здоровье; прокладки    63.20     2.0   126.40   \n",
       "1                                            NaN  1549.00     1.0  1549.00   \n",
       "2                                            NaN   135.20     1.0   135.20   \n",
       "3                                            NaN    31.20     1.0    31.20   \n",
       "4                                            NaN     4.90     1.0     4.90   \n",
       "5                       упаковка; пакеты; прочее     3.12     1.0     3.12   \n",
       "6                                            NaN   119.20     2.0   238.40   \n",
       "7  прокладки; личная гигиена; красота и здоровье   109.90     1.0   109.90   \n",
       "\n",
       "   Кэшбэк  \n",
       "0     NaN  \n",
       "1  154.90  \n",
       "2     NaN  \n",
       "3     NaN  \n",
       "4     NaN  \n",
       "5     NaN  \n",
       "6     NaN  \n",
       "7   12.99  "
      ],
      "text/html": "<div>\n<style scoped>\n    .dataframe tbody tr th:only-of-type {\n        vertical-align: middle;\n    }\n\n    .dataframe tbody tr th {\n        vertical-align: top;\n    }\n\n    .dataframe thead th {\n        text-align: right;\n    }\n</style>\n<table border=\"1\" class=\"dataframe\">\n  <thead>\n    <tr style=\"text-align: right;\">\n      <th></th>\n      <th>﻿id чека</th>\n      <th>Дата и время</th>\n      <th>ИНН</th>\n      <th>IDПользователя</th>\n      <th>Товар</th>\n      <th>Бренд</th>\n      <th>Теги</th>\n      <th>Цена</th>\n      <th>Кол-во</th>\n      <th>Сумма</th>\n      <th>Кэшбэк</th>\n    </tr>\n  </thead>\n  <tbody>\n    <tr>\n      <th>0</th>\n      <td>0000a622f9c8f1821ca549fbcfd47405</td>\n      <td>21.12.2019 15:15</td>\n      <td>2310031475</td>\n      <td>2700449a73d4cb9d8e909c706bf16fbe</td>\n      <td>libresse natural care ultra прокладки normal 10ш</td>\n      <td>libresse</td>\n      <td>личная гигиена; красота и здоровье; прокладки</td>\n      <td>63.20</td>\n      <td>2.0</td>\n      <td>126.40</td>\n      <td>NaN</td>\n    </tr>\n    <tr>\n      <th>1</th>\n      <td>0000a622f9c8f1821ca549fbcfd47405</td>\n      <td>21.12.2019 15:15</td>\n      <td>2310031475</td>\n      <td>2700449a73d4cb9d8e909c706bf16fbe</td>\n      <td>pampers трусики-подг 5 junior 12-17/15-18кг 96шт</td>\n      <td>pampers</td>\n      <td>NaN</td>\n      <td>1549.00</td>\n      <td>1.0</td>\n      <td>1549.00</td>\n      <td>154.90</td>\n    </tr>\n    <tr>\n      <th>2</th>\n      <td>0000a622f9c8f1821ca549fbcfd47405</td>\n      <td>21.12.2019 15:15</td>\n      <td>2310031475</td>\n      <td>2700449a73d4cb9d8e909c706bf16fbe</td>\n      <td>salton губка/гл кож с дозатор(чер)(шанхай продак</td>\n      <td>NaN</td>\n      <td>NaN</td>\n      <td>135.20</td>\n      <td>1.0</td>\n      <td>135.20</td>\n      <td>NaN</td>\n    </tr>\n    <tr>\n      <th>3</th>\n      <td>0000a622f9c8f1821ca549fbcfd47405</td>\n      <td>21.12.2019 15:15</td>\n      <td>2310031475</td>\n      <td>2700449a73d4cb9d8e909c706bf16fbe</td>\n      <td>soft ватные палочки 200шт пластиковый стакан(кот</td>\n      <td>NaN</td>\n      <td>NaN</td>\n      <td>31.20</td>\n      <td>1.0</td>\n      <td>31.20</td>\n      <td>NaN</td>\n    </tr>\n    <tr>\n      <th>4</th>\n      <td>0000a622f9c8f1821ca549fbcfd47405</td>\n      <td>21.12.2019 15:15</td>\n      <td>2310031475</td>\n      <td>2700449a73d4cb9d8e909c706bf16fbe</td>\n      <td>моя цена/степной тюльпан туал/бум без вт(бумагар</td>\n      <td>NaN</td>\n      <td>NaN</td>\n      <td>4.90</td>\n      <td>1.0</td>\n      <td>4.90</td>\n      <td>NaN</td>\n    </tr>\n    <tr>\n      <th>5</th>\n      <td>0000a622f9c8f1821ca549fbcfd47405</td>\n      <td>21.12.2019 15:15</td>\n      <td>2310031475</td>\n      <td>2700449a73d4cb9d8e909c706bf16fbe</td>\n      <td>пакет магнит косметик мал(пластиктрейд):300/2700</td>\n      <td>магнит косметик</td>\n      <td>упаковка; пакеты; прочее</td>\n      <td>3.12</td>\n      <td>1.0</td>\n      <td>3.12</td>\n      <td>NaN</td>\n    </tr>\n    <tr>\n      <th>6</th>\n      <td>0000a622f9c8f1821ca549fbcfd47405</td>\n      <td>21.12.2019 15:15</td>\n      <td>2310031475</td>\n      <td>2700449a73d4cb9d8e909c706bf16fbe</td>\n      <td>светодиод лампа старт груша 15вт e27 тёпл/хол св</td>\n      <td>NaN</td>\n      <td>NaN</td>\n      <td>119.20</td>\n      <td>2.0</td>\n      <td>238.40</td>\n      <td>NaN</td>\n    </tr>\n    <tr>\n      <th>7</th>\n      <td>0000ff080b0a96172c95b3aa6f34980d</td>\n      <td>14.12.2019 18:33</td>\n      <td>2310031475</td>\n      <td>417fef3a42028cb612da47fff7b829f3</td>\n      <td>discreet deo ежедн прокладки water</td>\n      <td>discreet</td>\n      <td>прокладки; личная гигиена; красота и здоровье</td>\n      <td>109.90</td>\n      <td>1.0</td>\n      <td>109.90</td>\n      <td>12.99</td>\n    </tr>\n  </tbody>\n</table>\n</div>"
     },
     "metadata": {},
     "execution_count": 7
    }
   ],
   "source": [
    "df.head(8)"
   ]
  },
  {
   "cell_type": "code",
   "execution_count": 8,
   "metadata": {},
   "outputs": [
    {
     "output_type": "execute_result",
     "data": {
      "text/plain": [
       "﻿id чека               0\n",
       "Дата и время           0\n",
       "ИНН                    0\n",
       "IDПользователя         0\n",
       "Товар                  0\n",
       "Бренд             178495\n",
       "Теги              128391\n",
       "Цена                  52\n",
       "Кол-во                52\n",
       "Сумма                 52\n",
       "Кэшбэк            253552\n",
       "dtype: int64"
      ]
     },
     "metadata": {},
     "execution_count": 8
    }
   ],
   "source": [
    "df.isnull().sum()"
   ]
  },
  {
   "cell_type": "code",
   "execution_count": 9,
   "metadata": {},
   "outputs": [],
   "source": [
    "df.rename(columns={'﻿id чека': 'ckeck_id', 'Дата и время': 'Data and time', 'ИНН': 'INN', 'IDПользователя': 'User_ID', 'Товар': 'Product', 'Цена': 'Price', 'Кол-во': 'Amount', 'Сумма': 'Sum', 'Кэшбэк': 'CashBack', 'Теги': 'Tags', 'Бренд': 'Brand'}, inplace=True)"
   ]
  },
  {
   "cell_type": "code",
   "execution_count": 10,
   "metadata": {},
   "outputs": [
    {
     "output_type": "execute_result",
     "data": {
      "text/plain": [
       "                           ckeck_id     Data and time         INN  \\\n",
       "0  0000a622f9c8f1821ca549fbcfd47405  21.12.2019 15:15  2310031475   \n",
       "1  0000a622f9c8f1821ca549fbcfd47405  21.12.2019 15:15  2310031475   \n",
       "2  0000a622f9c8f1821ca549fbcfd47405  21.12.2019 15:15  2310031475   \n",
       "3  0000a622f9c8f1821ca549fbcfd47405  21.12.2019 15:15  2310031475   \n",
       "4  0000a622f9c8f1821ca549fbcfd47405  21.12.2019 15:15  2310031475   \n",
       "\n",
       "                            User_ID  \\\n",
       "0  2700449a73d4cb9d8e909c706bf16fbe   \n",
       "1  2700449a73d4cb9d8e909c706bf16fbe   \n",
       "2  2700449a73d4cb9d8e909c706bf16fbe   \n",
       "3  2700449a73d4cb9d8e909c706bf16fbe   \n",
       "4  2700449a73d4cb9d8e909c706bf16fbe   \n",
       "\n",
       "                                            Product     Brand  \\\n",
       "0  libresse natural care ultra прокладки normal 10ш  libresse   \n",
       "1  pampers трусики-подг 5 junior 12-17/15-18кг 96шт   pampers   \n",
       "2  salton губка/гл кож с дозатор(чер)(шанхай продак       NaN   \n",
       "3  soft ватные палочки 200шт пластиковый стакан(кот       NaN   \n",
       "4  моя цена/степной тюльпан туал/бум без вт(бумагар       NaN   \n",
       "\n",
       "                                            Tags   Price  Amount     Sum  \\\n",
       "0  личная гигиена; красота и здоровье; прокладки    63.2     2.0   126.4   \n",
       "1                                            NaN  1549.0     1.0  1549.0   \n",
       "2                                            NaN   135.2     1.0   135.2   \n",
       "3                                            NaN    31.2     1.0    31.2   \n",
       "4                                            NaN     4.9     1.0     4.9   \n",
       "\n",
       "   CashBack  \n",
       "0       NaN  \n",
       "1     154.9  \n",
       "2       NaN  \n",
       "3       NaN  \n",
       "4       NaN  "
      ],
      "text/html": "<div>\n<style scoped>\n    .dataframe tbody tr th:only-of-type {\n        vertical-align: middle;\n    }\n\n    .dataframe tbody tr th {\n        vertical-align: top;\n    }\n\n    .dataframe thead th {\n        text-align: right;\n    }\n</style>\n<table border=\"1\" class=\"dataframe\">\n  <thead>\n    <tr style=\"text-align: right;\">\n      <th></th>\n      <th>ckeck_id</th>\n      <th>Data and time</th>\n      <th>INN</th>\n      <th>User_ID</th>\n      <th>Product</th>\n      <th>Brand</th>\n      <th>Tags</th>\n      <th>Price</th>\n      <th>Amount</th>\n      <th>Sum</th>\n      <th>CashBack</th>\n    </tr>\n  </thead>\n  <tbody>\n    <tr>\n      <th>0</th>\n      <td>0000a622f9c8f1821ca549fbcfd47405</td>\n      <td>21.12.2019 15:15</td>\n      <td>2310031475</td>\n      <td>2700449a73d4cb9d8e909c706bf16fbe</td>\n      <td>libresse natural care ultra прокладки normal 10ш</td>\n      <td>libresse</td>\n      <td>личная гигиена; красота и здоровье; прокладки</td>\n      <td>63.2</td>\n      <td>2.0</td>\n      <td>126.4</td>\n      <td>NaN</td>\n    </tr>\n    <tr>\n      <th>1</th>\n      <td>0000a622f9c8f1821ca549fbcfd47405</td>\n      <td>21.12.2019 15:15</td>\n      <td>2310031475</td>\n      <td>2700449a73d4cb9d8e909c706bf16fbe</td>\n      <td>pampers трусики-подг 5 junior 12-17/15-18кг 96шт</td>\n      <td>pampers</td>\n      <td>NaN</td>\n      <td>1549.0</td>\n      <td>1.0</td>\n      <td>1549.0</td>\n      <td>154.9</td>\n    </tr>\n    <tr>\n      <th>2</th>\n      <td>0000a622f9c8f1821ca549fbcfd47405</td>\n      <td>21.12.2019 15:15</td>\n      <td>2310031475</td>\n      <td>2700449a73d4cb9d8e909c706bf16fbe</td>\n      <td>salton губка/гл кож с дозатор(чер)(шанхай продак</td>\n      <td>NaN</td>\n      <td>NaN</td>\n      <td>135.2</td>\n      <td>1.0</td>\n      <td>135.2</td>\n      <td>NaN</td>\n    </tr>\n    <tr>\n      <th>3</th>\n      <td>0000a622f9c8f1821ca549fbcfd47405</td>\n      <td>21.12.2019 15:15</td>\n      <td>2310031475</td>\n      <td>2700449a73d4cb9d8e909c706bf16fbe</td>\n      <td>soft ватные палочки 200шт пластиковый стакан(кот</td>\n      <td>NaN</td>\n      <td>NaN</td>\n      <td>31.2</td>\n      <td>1.0</td>\n      <td>31.2</td>\n      <td>NaN</td>\n    </tr>\n    <tr>\n      <th>4</th>\n      <td>0000a622f9c8f1821ca549fbcfd47405</td>\n      <td>21.12.2019 15:15</td>\n      <td>2310031475</td>\n      <td>2700449a73d4cb9d8e909c706bf16fbe</td>\n      <td>моя цена/степной тюльпан туал/бум без вт(бумагар</td>\n      <td>NaN</td>\n      <td>NaN</td>\n      <td>4.9</td>\n      <td>1.0</td>\n      <td>4.9</td>\n      <td>NaN</td>\n    </tr>\n  </tbody>\n</table>\n</div>"
     },
     "metadata": {},
     "execution_count": 10
    }
   ],
   "source": [
    "df.head()"
   ]
  },
  {
   "cell_type": "code",
   "execution_count": 12,
   "metadata": {},
   "outputs": [],
   "source": [
    "df.Product.unique().sum()"
   ]
  },
  {
   "cell_type": "code",
   "execution_count": 11,
   "metadata": {},
   "outputs": [],
   "source": [
    "df = df.fillna({'CashBack':0, 'Brand':0, 'Tags':0, 'Price':0, 'Amount':0, 'Sum':0})"
   ]
  },
  {
   "cell_type": "code",
   "execution_count": 12,
   "metadata": {},
   "outputs": [
    {
     "output_type": "execute_result",
     "data": {
      "text/plain": [
       "ckeck_id         0\n",
       "Data and time    0\n",
       "INN              0\n",
       "User_ID          0\n",
       "Product          0\n",
       "Brand            0\n",
       "Tags             0\n",
       "Price            0\n",
       "Amount           0\n",
       "Sum              0\n",
       "CashBack         0\n",
       "dtype: int64"
      ]
     },
     "metadata": {},
     "execution_count": 12
    }
   ],
   "source": [
    "df.isnull().sum()"
   ]
  },
  {
   "cell_type": "code",
   "execution_count": 13,
   "metadata": {},
   "outputs": [
    {
     "output_type": "execute_result",
     "data": {
      "text/plain": [
       "                           ckeck_id     Data and time         INN  \\\n",
       "0  0000a622f9c8f1821ca549fbcfd47405  21.12.2019 15:15  2310031475   \n",
       "1  0000a622f9c8f1821ca549fbcfd47405  21.12.2019 15:15  2310031475   \n",
       "2  0000a622f9c8f1821ca549fbcfd47405  21.12.2019 15:15  2310031475   \n",
       "3  0000a622f9c8f1821ca549fbcfd47405  21.12.2019 15:15  2310031475   \n",
       "4  0000a622f9c8f1821ca549fbcfd47405  21.12.2019 15:15  2310031475   \n",
       "\n",
       "                            User_ID  \\\n",
       "0  2700449a73d4cb9d8e909c706bf16fbe   \n",
       "1  2700449a73d4cb9d8e909c706bf16fbe   \n",
       "2  2700449a73d4cb9d8e909c706bf16fbe   \n",
       "3  2700449a73d4cb9d8e909c706bf16fbe   \n",
       "4  2700449a73d4cb9d8e909c706bf16fbe   \n",
       "\n",
       "                                            Product     Brand  \\\n",
       "0  libresse natural care ultra прокладки normal 10ш  libresse   \n",
       "1  pampers трусики-подг 5 junior 12-17/15-18кг 96шт   pampers   \n",
       "2  salton губка/гл кож с дозатор(чер)(шанхай продак         0   \n",
       "3  soft ватные палочки 200шт пластиковый стакан(кот         0   \n",
       "4  моя цена/степной тюльпан туал/бум без вт(бумагар         0   \n",
       "\n",
       "                                            Tags   Price  Amount     Sum  \\\n",
       "0  личная гигиена; красота и здоровье; прокладки    63.2     2.0   126.4   \n",
       "1                                              0  1549.0     1.0  1549.0   \n",
       "2                                              0   135.2     1.0   135.2   \n",
       "3                                              0    31.2     1.0    31.2   \n",
       "4                                              0     4.9     1.0     4.9   \n",
       "\n",
       "   CashBack  \n",
       "0       0.0  \n",
       "1     154.9  \n",
       "2       0.0  \n",
       "3       0.0  \n",
       "4       0.0  "
      ],
      "text/html": "<div>\n<style scoped>\n    .dataframe tbody tr th:only-of-type {\n        vertical-align: middle;\n    }\n\n    .dataframe tbody tr th {\n        vertical-align: top;\n    }\n\n    .dataframe thead th {\n        text-align: right;\n    }\n</style>\n<table border=\"1\" class=\"dataframe\">\n  <thead>\n    <tr style=\"text-align: right;\">\n      <th></th>\n      <th>ckeck_id</th>\n      <th>Data and time</th>\n      <th>INN</th>\n      <th>User_ID</th>\n      <th>Product</th>\n      <th>Brand</th>\n      <th>Tags</th>\n      <th>Price</th>\n      <th>Amount</th>\n      <th>Sum</th>\n      <th>CashBack</th>\n    </tr>\n  </thead>\n  <tbody>\n    <tr>\n      <th>0</th>\n      <td>0000a622f9c8f1821ca549fbcfd47405</td>\n      <td>21.12.2019 15:15</td>\n      <td>2310031475</td>\n      <td>2700449a73d4cb9d8e909c706bf16fbe</td>\n      <td>libresse natural care ultra прокладки normal 10ш</td>\n      <td>libresse</td>\n      <td>личная гигиена; красота и здоровье; прокладки</td>\n      <td>63.2</td>\n      <td>2.0</td>\n      <td>126.4</td>\n      <td>0.0</td>\n    </tr>\n    <tr>\n      <th>1</th>\n      <td>0000a622f9c8f1821ca549fbcfd47405</td>\n      <td>21.12.2019 15:15</td>\n      <td>2310031475</td>\n      <td>2700449a73d4cb9d8e909c706bf16fbe</td>\n      <td>pampers трусики-подг 5 junior 12-17/15-18кг 96шт</td>\n      <td>pampers</td>\n      <td>0</td>\n      <td>1549.0</td>\n      <td>1.0</td>\n      <td>1549.0</td>\n      <td>154.9</td>\n    </tr>\n    <tr>\n      <th>2</th>\n      <td>0000a622f9c8f1821ca549fbcfd47405</td>\n      <td>21.12.2019 15:15</td>\n      <td>2310031475</td>\n      <td>2700449a73d4cb9d8e909c706bf16fbe</td>\n      <td>salton губка/гл кож с дозатор(чер)(шанхай продак</td>\n      <td>0</td>\n      <td>0</td>\n      <td>135.2</td>\n      <td>1.0</td>\n      <td>135.2</td>\n      <td>0.0</td>\n    </tr>\n    <tr>\n      <th>3</th>\n      <td>0000a622f9c8f1821ca549fbcfd47405</td>\n      <td>21.12.2019 15:15</td>\n      <td>2310031475</td>\n      <td>2700449a73d4cb9d8e909c706bf16fbe</td>\n      <td>soft ватные палочки 200шт пластиковый стакан(кот</td>\n      <td>0</td>\n      <td>0</td>\n      <td>31.2</td>\n      <td>1.0</td>\n      <td>31.2</td>\n      <td>0.0</td>\n    </tr>\n    <tr>\n      <th>4</th>\n      <td>0000a622f9c8f1821ca549fbcfd47405</td>\n      <td>21.12.2019 15:15</td>\n      <td>2310031475</td>\n      <td>2700449a73d4cb9d8e909c706bf16fbe</td>\n      <td>моя цена/степной тюльпан туал/бум без вт(бумагар</td>\n      <td>0</td>\n      <td>0</td>\n      <td>4.9</td>\n      <td>1.0</td>\n      <td>4.9</td>\n      <td>0.0</td>\n    </tr>\n  </tbody>\n</table>\n</div>"
     },
     "metadata": {},
     "execution_count": 13
    }
   ],
   "source": [
    "df.head()"
   ]
  },
  {
   "cell_type": "code",
   "execution_count": 14,
   "metadata": {},
   "outputs": [
    {
     "output_type": "execute_result",
     "data": {
      "text/plain": [
       "20905"
      ]
     },
     "metadata": {},
     "execution_count": 14
    }
   ],
   "source": [
    "len(df['User_ID'].unique())"
   ]
  },
  {
   "cell_type": "code",
   "execution_count": 15,
   "metadata": {},
   "outputs": [],
   "source": [
    "column = df.head(0)"
   ]
  },
  {
   "cell_type": "code",
   "execution_count": 16,
   "metadata": {},
   "outputs": [
    {
     "output_type": "stream",
     "name": "stdout",
     "text": [
      "45497\n",
      "32275\n",
      "512\n",
      "20905\n",
      "114405\n",
      "861\n",
      "10150\n",
      "20598\n",
      "2648\n",
      "27449\n",
      "4671\n"
     ]
    }
   ],
   "source": [
    "for col in column:\n",
    "    print(len(df[col].unique()))"
   ]
  },
  {
   "cell_type": "code",
   "execution_count": 17,
   "metadata": {},
   "outputs": [],
   "source": [
    "import io\n",
    "import tokenize as T\n",
    "from operator import itemgetter\n",
    "\n",
    "def tokenize_string(data):\n",
    "    tokens = T.tokenize(io.BytesIO(data.strip().encode()).readline)\n",
    "    next(tokens)\n",
    "    return list(filter(None, map(itemgetter(1), tokens)))"
   ]
  },
  {
   "cell_type": "code",
   "execution_count": 18,
   "metadata": {},
   "outputs": [],
   "source": [
    "# str = 'Аналогичную, но с несколько иным подходом, реализацию алгоритма Apriori для базы Adult'"
   ]
  },
  {
   "cell_type": "code",
   "execution_count": 19,
   "metadata": {},
   "outputs": [],
   "source": [
    "# tokenize_string(str)"
   ]
  },
  {
   "cell_type": "code",
   "execution_count": 18,
   "metadata": {},
   "outputs": [],
   "source": [
    "df_short = df.head()"
   ]
  },
  {
   "cell_type": "code",
   "execution_count": 19,
   "metadata": {},
   "outputs": [],
   "source": [
    "transactions = []\n",
    "for i in range(0, 5): \n",
    "    transactions.append([str(df_short.values[i,j]) for j in range(0, 11)])"
   ]
  },
  {
   "cell_type": "code",
   "execution_count": 22,
   "metadata": {},
   "outputs": [
    {
     "output_type": "stream",
     "name": "stdout",
     "text": [
      "Requirement already satisfied: apriori in c:\\users\\acer\\anaconda3\\lib\\site-packages (1.0.0)\nNote: you may need to restart the kernel to use updated packages.\n"
     ]
    }
   ],
   "source": [
    "pip install apriori"
   ]
  },
  {
   "cell_type": "code",
   "execution_count": 25,
   "metadata": {},
   "outputs": [
    {
     "output_type": "error",
     "ename": "IndentationError",
     "evalue": "unexpected indent (apriori.py, line 98)",
     "traceback": [
      "Traceback \u001b[1;36m(most recent call last)\u001b[0m:\n",
      "  File \u001b[0;32m\"C:\\Users\\ACER\\AppData\\Roaming\\Python\\Python38\\site-packages\\IPython\\core\\interactiveshell.py\"\u001b[0m, line \u001b[0;32m3427\u001b[0m, in \u001b[0;35mrun_code\u001b[0m\n    exec(code_obj, self.user_global_ns, self.user_ns)\n",
      "\u001b[1;36m  File \u001b[1;32m\"<ipython-input-25-0d02b010f80c>\"\u001b[1;36m, line \u001b[1;32m1\u001b[1;36m, in \u001b[1;35m<module>\u001b[1;36m\u001b[0m\n\u001b[1;33m    import apriori\u001b[0m\n",
      "\u001b[1;36m  File \u001b[1;32m\"C:\\Users\\ACER\\anaconda3\\lib\\site-packages\\apriori.py\"\u001b[1;36m, line \u001b[1;32m98\u001b[0m\n\u001b[1;33m    Hmp1 = calcConf(freqSet, Hmp1, supportData, brl, minConf)\u001b[0m\n\u001b[1;37m    ^\u001b[0m\n\u001b[1;31mIndentationError\u001b[0m\u001b[1;31m:\u001b[0m unexpected indent\n"
     ]
    }
   ],
   "source": [
    "import apriori\n",
    "%%time"
   ]
  },
  {
   "cell_type": "code",
   "execution_count": 23,
   "metadata": {},
   "outputs": [
    {
     "output_type": "error",
     "ename": "NameError",
     "evalue": "name 'apriori' is not defined",
     "traceback": [
      "\u001b[1;31m---------------------------------------------------------------------------\u001b[0m",
      "\u001b[1;31mNameError\u001b[0m                                 Traceback (most recent call last)",
      "\u001b[1;32m<ipython-input-23-9f3d54c37560>\u001b[0m in \u001b[0;36m<module>\u001b[1;34m\u001b[0m\n\u001b[1;32m----> 1\u001b[1;33m \u001b[0mresult\u001b[0m \u001b[1;33m=\u001b[0m \u001b[0mlist\u001b[0m\u001b[1;33m(\u001b[0m\u001b[0mapriori\u001b[0m\u001b[1;33m.\u001b[0m\u001b[0mapriori\u001b[0m\u001b[1;33m(\u001b[0m\u001b[0mtransactions\u001b[0m\u001b[1;33m,\u001b[0m \u001b[0mmin_support\u001b[0m \u001b[1;33m=\u001b[0m \u001b[1;36m0.003\u001b[0m\u001b[1;33m,\u001b[0m \u001b[0mmin_confidence\u001b[0m \u001b[1;33m=\u001b[0m \u001b[1;36m0.2\u001b[0m\u001b[1;33m,\u001b[0m \u001b[0mmin_lift\u001b[0m \u001b[1;33m=\u001b[0m \u001b[1;36m4\u001b[0m\u001b[1;33m,\u001b[0m \u001b[0mmin_length\u001b[0m \u001b[1;33m=\u001b[0m \u001b[1;36m2\u001b[0m\u001b[1;33m)\u001b[0m\u001b[1;33m)\u001b[0m\u001b[1;33m\u001b[0m\u001b[1;33m\u001b[0m\u001b[0m\n\u001b[0m",
      "\u001b[1;31mNameError\u001b[0m: name 'apriori' is not defined"
     ]
    }
   ],
   "source": [
    "result = list(apriori.apriori(transactions, min_support = 0.003, min_confidence = 0.2, min_lift = 4, min_length = 2))"
   ]
  },
  {
   "cell_type": "code",
   "execution_count": null,
   "metadata": {},
   "outputs": [],
   "source": [
    "import shutil, os \n",
    "try:\n",
    "    from StringIO import StringIO\n",
    "except ImportError:\n",
    "    from io import StringIO\n",
    "import json #преобразовывать будем в json, используя встроенные в модуль методы"
   ]
  },
  {
   "cell_type": "code",
   "execution_count": null,
   "metadata": {},
   "outputs": [],
   "source": [
    "output = []\n",
    "for RelationRecord in result:\n",
    "    o = StringIO()\n",
    "    apriori.dump_as_json(RelationRecord, o)\n",
    "    output.append(json.loads(o.getvalue()))\n",
    "data_df = pd.DataFrame(output)\n",
    "# и взгялнем на итоги\n",
    "pd.set_option('display.max_colwidth', -1)\n",
    "\n",
    "display(HTML(data_df.to_html()))"
   ]
  }
 ]
}